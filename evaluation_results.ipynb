{
 "cells": [
  {
   "cell_type": "code",
   "execution_count": 1,
   "id": "4ea64687-4d65-4692-9bfd-fe6f66c7e02f",
   "metadata": {},
   "outputs": [
    {
     "name": "stderr",
     "output_type": "stream",
     "text": [
      "C:\\Users\\13610\\AppData\\Roaming\\Python\\Python39\\site-packages\\sklearn\\linear_model\\_logistic.py:444: ConvergenceWarning: lbfgs failed to converge (status=1):\n",
      "STOP: TOTAL NO. of ITERATIONS REACHED LIMIT.\n",
      "\n",
      "Increase the number of iterations (max_iter) or scale the data as shown in:\n",
      "    https://scikit-learn.org/stable/modules/preprocessing.html\n",
      "Please also refer to the documentation for alternative solver options:\n",
      "    https://scikit-learn.org/stable/modules/linear_model.html#logistic-regression\n",
      "  n_iter_i = _check_optimize_result(\n"
     ]
    },
    {
     "name": "stdout",
     "output_type": "stream",
     "text": [
      "Argument identification with Logistic Regression model:\n",
      "\n",
      "                  precision    recall  f1-score   support\n",
      "\n",
      "invalid argument      0.907     0.999     0.951     90977\n",
      "  valid argument      0.380     0.007     0.013      9417\n",
      "\n",
      "        accuracy                          0.906    100394\n",
      "       macro avg      0.644     0.503     0.482    100394\n",
      "    weighted avg      0.857     0.906     0.863    100394\n",
      "\n",
      "Argument classification with Logistic Regression model:\n",
      "\n",
      "              precision    recall  f1-score   support\n",
      "\n",
      "        ARG0      0.667     0.500     0.571         4\n",
      "        ARG1      0.667     0.105     0.182        19\n",
      "        ARG2      0.500     0.043     0.080        23\n",
      "        ARG4      0.000     0.000     0.000         1\n",
      "    ARGM-ADV      0.000     0.000     0.000         9\n",
      "    ARGM-CAU      0.000     0.000     0.000         2\n",
      "    ARGM-MOD      0.000     0.000     0.000         1\n",
      "    ARGM-TMP      0.000     0.000     0.000         2\n",
      "      C-ARG1      0.000     0.000     0.000         1\n",
      "           _      0.639     0.980     0.773       101\n",
      "\n",
      "    accuracy                          0.638       163\n",
      "   macro avg      0.247     0.163     0.161       163\n",
      "weighted avg      0.560     0.638     0.526       163\n",
      "\n"
     ]
    },
    {
     "name": "stderr",
     "output_type": "stream",
     "text": [
      "C:\\Users\\13610\\AppData\\Roaming\\Python\\Python39\\site-packages\\sklearn\\linear_model\\_logistic.py:444: ConvergenceWarning: lbfgs failed to converge (status=1):\n",
      "STOP: TOTAL NO. of ITERATIONS REACHED LIMIT.\n",
      "\n",
      "Increase the number of iterations (max_iter) or scale the data as shown in:\n",
      "    https://scikit-learn.org/stable/modules/preprocessing.html\n",
      "Please also refer to the documentation for alternative solver options:\n",
      "    https://scikit-learn.org/stable/modules/linear_model.html#logistic-regression\n",
      "  n_iter_i = _check_optimize_result(\n"
     ]
    }
   ],
   "source": [
    "# load and run main.py to get evaluation results of argument identification and classification\n",
    "%run main  "
   ]
  }
 ],
 "metadata": {
  "kernelspec": {
   "display_name": "hlt_env",
   "language": "python",
   "name": "hlt_env"
  },
  "language_info": {
   "codemirror_mode": {
    "name": "ipython",
    "version": 3
   },
   "file_extension": ".py",
   "mimetype": "text/x-python",
   "name": "python",
   "nbconvert_exporter": "python",
   "pygments_lexer": "ipython3",
   "version": "3.9.13"
  }
 },
 "nbformat": 4,
 "nbformat_minor": 5
}
