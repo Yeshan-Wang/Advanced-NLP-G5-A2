{
 "cells": [
  {
   "cell_type": "code",
   "execution_count": 1,
   "id": "e8f609ec",
   "metadata": {},
   "outputs": [],
   "source": [
    "import pandas as pd\n",
    "\n",
    "def read_conll_file(file_path):\n",
    "    '''read original conllu file and return all sentences'''\n",
    "    sentences = []\n",
    "    with open(file_path, encoding='utf-8') as f:\n",
    "        current_sentence = []\n",
    "        for line in f:\n",
    "            line = line.strip()\n",
    "            if not line:\n",
    "                sentences.append(current_sentence)\n",
    "                current_sentence = []\n",
    "            elif not line.startswith('#'):\n",
    "                fields = line.split('\\t')\n",
    "                current_sentence.append(fields)\n",
    "    if current_sentence:\n",
    "        sentences.append(current_sentence)\n",
    "    return sentences"
   ]
  },
  {
   "cell_type": "code",
   "execution_count": 2,
   "id": "c443ec88",
   "metadata": {},
   "outputs": [],
   "source": [
    "def repeat_multi_predicate_sentences(sentences):\n",
    "    '''split each sentence into propositions based on predicates'''\n",
    "    final_sentences = []\n",
    "    for sentence in sentences:\n",
    "        # Check if sentence has at least 11 fields\n",
    "        if len(sentence[0]) < 11:\n",
    "            continue\n",
    "        # Get the values of all predicate columns in the sentence\n",
    "        predicate_values = list([fields[10] for fields in sentence if len(fields) >= 11])\n",
    "        predicate_values = [item for item in predicate_values if item != '_']\n",
    "        # If there is only one predicate value or no predicates, don't repeat the sentence\n",
    "        if len(predicate_values) <= 1:\n",
    "            final_sentences.append(sentence)\n",
    "        elif len(predicate_values) > 1:\n",
    "            # Repeat sentence for each predicate value\n",
    "            for i, pred in enumerate(predicate_values):\n",
    "                b = i + 1\n",
    "                # Convert sentence to DataFrame\n",
    "                df = pd.DataFrame(sentence)\n",
    "                # Create a new DataFrame with only the first 11 columns of the original DataFrame\n",
    "                df_2 = df.iloc[:, :11].copy()\n",
    "                new_col = df.iloc[:, (10 + b)]\n",
    "                df_2[11] = new_col\n",
    "                new_sentence = df_2.values.tolist()\n",
    "                final_sentences.append(new_sentence)\n",
    "                \n",
    "    return final_sentences"
   ]
  },
  {
   "cell_type": "code",
   "execution_count": 3,
   "id": "da13d221",
   "metadata": {},
   "outputs": [],
   "source": [
    "def write_conll_file(sentences, file_path):\n",
    "    '''write all preprocessed sentences to corresponding conll files and save in the specified path'''\n",
    "    with open(file_path, 'w', encoding='utf-8') as f:\n",
    "        for sentence in sentences:\n",
    "            for fields in sentence:\n",
    "                if None in fields:\n",
    "                    continue\n",
    "                else:\n",
    "                    f.write('\\t'.join(fields) + '\\n')\n",
    "            f.write('\\n')"
   ]
  },
  {
   "cell_type": "code",
   "execution_count": 4,
   "id": "9b5f1f50",
   "metadata": {},
   "outputs": [],
   "source": [
    "# preprocess the training set and save as train.conll\n",
    "train_sentences = read_conll_file('data/original data/en_ewt-up-train.conllu')\n",
    "train = repeat_multi_predicate_sentences(train_sentences)\n",
    "write_conll_file(train, 'data/preprocessed data/train.conll')"
   ]
  },
  {
   "cell_type": "code",
   "execution_count": 5,
   "id": "37536808-3e97-48e0-a3a0-ef98212b3500",
   "metadata": {},
   "outputs": [],
   "source": [
    "# preprocess the test set and save as test.conll\n",
    "test_sentences = read_conll_file('data/original data/en_ewt-up-test.conllu')\n",
    "test = repeat_multi_predicate_sentences(test_sentences)\n",
    "write_conll_file(test, 'data/preprocessed data/test.conll')"
   ]
  }
 ],
 "metadata": {
  "kernelspec": {
   "display_name": "hlt_env",
   "language": "python",
   "name": "hlt_env"
  },
  "language_info": {
   "codemirror_mode": {
    "name": "ipython",
    "version": 3
   },
   "file_extension": ".py",
   "mimetype": "text/x-python",
   "name": "python",
   "nbconvert_exporter": "python",
   "pygments_lexer": "ipython3",
   "version": "3.9.13"
  }
 },
 "nbformat": 4,
 "nbformat_minor": 5
}
